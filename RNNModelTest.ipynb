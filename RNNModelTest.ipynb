{
 "cells": [
  {
   "cell_type": "code",
   "execution_count": 1,
   "id": "c8e10287-1fc1-4ff6-844e-0727bdd4b0b6",
   "metadata": {},
   "outputs": [],
   "source": [
    "import numpy as np\n",
    "import pandas as pd\n",
    "import matplotlib.pyplot as plt\n",
    "from sklearn.preprocessing import MinMaxScaler\n",
    "from keras.models import Sequential, load_model\n",
    "from keras.layers import LSTM, Dense, Dropout"
   ]
  },
  {
   "cell_type": "markdown",
   "id": "d9f108f4-cc68-41fd-9c60-ac97b5d9b924",
   "metadata": {},
   "source": [
    "# Loading in Dataset"
   ]
  },
  {
   "cell_type": "code",
   "execution_count": 10,
   "id": "6d3ece7f-5cb8-4c29-911c-148670456b7e",
   "metadata": {},
   "outputs": [
    {
     "name": "stdout",
     "output_type": "stream",
     "text": [
      "[*********************100%***********************]  1 of 1 completed\n"
     ]
    },
    {
     "data": {
      "text/html": [
       "<div>\n",
       "<style scoped>\n",
       "    .dataframe tbody tr th:only-of-type {\n",
       "        vertical-align: middle;\n",
       "    }\n",
       "\n",
       "    .dataframe tbody tr th {\n",
       "        vertical-align: top;\n",
       "    }\n",
       "\n",
       "    .dataframe thead th {\n",
       "        text-align: right;\n",
       "    }\n",
       "</style>\n",
       "<table border=\"1\" class=\"dataframe\">\n",
       "  <thead>\n",
       "    <tr style=\"text-align: right;\">\n",
       "      <th></th>\n",
       "      <th>Open</th>\n",
       "      <th>High</th>\n",
       "      <th>Low</th>\n",
       "      <th>Close</th>\n",
       "      <th>Adj Close</th>\n",
       "      <th>Volume</th>\n",
       "    </tr>\n",
       "    <tr>\n",
       "      <th>Date</th>\n",
       "      <th></th>\n",
       "      <th></th>\n",
       "      <th></th>\n",
       "      <th></th>\n",
       "      <th></th>\n",
       "      <th></th>\n",
       "    </tr>\n",
       "  </thead>\n",
       "  <tbody>\n",
       "    <tr>\n",
       "      <th>1999-12-31</th>\n",
       "      <td>0.901228</td>\n",
       "      <td>0.918527</td>\n",
       "      <td>0.888393</td>\n",
       "      <td>0.917969</td>\n",
       "      <td>0.789364</td>\n",
       "      <td>163811200</td>\n",
       "    </tr>\n",
       "    <tr>\n",
       "      <th>2000-01-03</th>\n",
       "      <td>0.936384</td>\n",
       "      <td>1.004464</td>\n",
       "      <td>0.907924</td>\n",
       "      <td>0.999442</td>\n",
       "      <td>0.859423</td>\n",
       "      <td>535796800</td>\n",
       "    </tr>\n",
       "    <tr>\n",
       "      <th>2000-01-04</th>\n",
       "      <td>0.966518</td>\n",
       "      <td>0.987723</td>\n",
       "      <td>0.903460</td>\n",
       "      <td>0.915179</td>\n",
       "      <td>0.786965</td>\n",
       "      <td>512377600</td>\n",
       "    </tr>\n",
       "    <tr>\n",
       "      <th>2000-01-05</th>\n",
       "      <td>0.926339</td>\n",
       "      <td>0.987165</td>\n",
       "      <td>0.919643</td>\n",
       "      <td>0.928571</td>\n",
       "      <td>0.798481</td>\n",
       "      <td>778321600</td>\n",
       "    </tr>\n",
       "    <tr>\n",
       "      <th>2000-01-06</th>\n",
       "      <td>0.947545</td>\n",
       "      <td>0.955357</td>\n",
       "      <td>0.848214</td>\n",
       "      <td>0.848214</td>\n",
       "      <td>0.729382</td>\n",
       "      <td>767972800</td>\n",
       "    </tr>\n",
       "    <tr>\n",
       "      <th>...</th>\n",
       "      <td>...</td>\n",
       "      <td>...</td>\n",
       "      <td>...</td>\n",
       "      <td>...</td>\n",
       "      <td>...</td>\n",
       "      <td>...</td>\n",
       "    </tr>\n",
       "    <tr>\n",
       "      <th>2021-06-24</th>\n",
       "      <td>134.449997</td>\n",
       "      <td>134.639999</td>\n",
       "      <td>132.929993</td>\n",
       "      <td>133.410004</td>\n",
       "      <td>133.410004</td>\n",
       "      <td>68711000</td>\n",
       "    </tr>\n",
       "    <tr>\n",
       "      <th>2021-06-25</th>\n",
       "      <td>133.460007</td>\n",
       "      <td>133.889999</td>\n",
       "      <td>132.809998</td>\n",
       "      <td>133.110001</td>\n",
       "      <td>133.110001</td>\n",
       "      <td>70783700</td>\n",
       "    </tr>\n",
       "    <tr>\n",
       "      <th>2021-06-28</th>\n",
       "      <td>133.410004</td>\n",
       "      <td>135.250000</td>\n",
       "      <td>133.350006</td>\n",
       "      <td>134.779999</td>\n",
       "      <td>134.779999</td>\n",
       "      <td>62111300</td>\n",
       "    </tr>\n",
       "    <tr>\n",
       "      <th>2021-06-29</th>\n",
       "      <td>134.800003</td>\n",
       "      <td>136.490005</td>\n",
       "      <td>134.350006</td>\n",
       "      <td>136.330002</td>\n",
       "      <td>136.330002</td>\n",
       "      <td>64556100</td>\n",
       "    </tr>\n",
       "    <tr>\n",
       "      <th>2021-06-30</th>\n",
       "      <td>136.169998</td>\n",
       "      <td>137.410004</td>\n",
       "      <td>135.869995</td>\n",
       "      <td>136.960007</td>\n",
       "      <td>136.960007</td>\n",
       "      <td>63261400</td>\n",
       "    </tr>\n",
       "  </tbody>\n",
       "</table>\n",
       "<p>5409 rows × 6 columns</p>\n",
       "</div>"
      ],
      "text/plain": [
       "                  Open        High         Low       Close   Adj Close  \\\n",
       "Date                                                                     \n",
       "1999-12-31    0.901228    0.918527    0.888393    0.917969    0.789364   \n",
       "2000-01-03    0.936384    1.004464    0.907924    0.999442    0.859423   \n",
       "2000-01-04    0.966518    0.987723    0.903460    0.915179    0.786965   \n",
       "2000-01-05    0.926339    0.987165    0.919643    0.928571    0.798481   \n",
       "2000-01-06    0.947545    0.955357    0.848214    0.848214    0.729382   \n",
       "...                ...         ...         ...         ...         ...   \n",
       "2021-06-24  134.449997  134.639999  132.929993  133.410004  133.410004   \n",
       "2021-06-25  133.460007  133.889999  132.809998  133.110001  133.110001   \n",
       "2021-06-28  133.410004  135.250000  133.350006  134.779999  134.779999   \n",
       "2021-06-29  134.800003  136.490005  134.350006  136.330002  136.330002   \n",
       "2021-06-30  136.169998  137.410004  135.869995  136.960007  136.960007   \n",
       "\n",
       "               Volume  \n",
       "Date                   \n",
       "1999-12-31  163811200  \n",
       "2000-01-03  535796800  \n",
       "2000-01-04  512377600  \n",
       "2000-01-05  778321600  \n",
       "2000-01-06  767972800  \n",
       "...               ...  \n",
       "2021-06-24   68711000  \n",
       "2021-06-25   70783700  \n",
       "2021-06-28   62111300  \n",
       "2021-06-29   64556100  \n",
       "2021-06-30   63261400  \n",
       "\n",
       "[5409 rows x 6 columns]"
      ]
     },
     "execution_count": 10,
     "metadata": {},
     "output_type": "execute_result"
    }
   ],
   "source": [
    "import yfinance as yf\n",
    "dataframe = yf.download(\"AAPL\", start=\"2000-01-01\", end=\"2021-07-01\")\n",
    "dataframe\n"
   ]
  },
  {
   "cell_type": "code",
   "execution_count": 13,
   "id": "0c1df148-387a-4cd2-b849-4263b20d53d1",
   "metadata": {},
   "outputs": [
    {
     "data": {
      "text/html": [
       "<div>\n",
       "<style scoped>\n",
       "    .dataframe tbody tr th:only-of-type {\n",
       "        vertical-align: middle;\n",
       "    }\n",
       "\n",
       "    .dataframe tbody tr th {\n",
       "        vertical-align: top;\n",
       "    }\n",
       "\n",
       "    .dataframe thead th {\n",
       "        text-align: right;\n",
       "    }\n",
       "</style>\n",
       "<table border=\"1\" class=\"dataframe\">\n",
       "  <thead>\n",
       "    <tr style=\"text-align: right;\">\n",
       "      <th></th>\n",
       "      <th>date</th>\n",
       "      <th>open</th>\n",
       "      <th>high</th>\n",
       "      <th>low</th>\n",
       "      <th>close</th>\n",
       "      <th>adj_close</th>\n",
       "      <th>volume</th>\n",
       "    </tr>\n",
       "  </thead>\n",
       "  <tbody>\n",
       "    <tr>\n",
       "      <th>0</th>\n",
       "      <td>1999-12-31</td>\n",
       "      <td>0.901228</td>\n",
       "      <td>0.918527</td>\n",
       "      <td>0.888393</td>\n",
       "      <td>0.917969</td>\n",
       "      <td>0.789364</td>\n",
       "      <td>163811200</td>\n",
       "    </tr>\n",
       "    <tr>\n",
       "      <th>1</th>\n",
       "      <td>2000-01-03</td>\n",
       "      <td>0.936384</td>\n",
       "      <td>1.004464</td>\n",
       "      <td>0.907924</td>\n",
       "      <td>0.999442</td>\n",
       "      <td>0.859423</td>\n",
       "      <td>535796800</td>\n",
       "    </tr>\n",
       "    <tr>\n",
       "      <th>2</th>\n",
       "      <td>2000-01-04</td>\n",
       "      <td>0.966518</td>\n",
       "      <td>0.987723</td>\n",
       "      <td>0.903460</td>\n",
       "      <td>0.915179</td>\n",
       "      <td>0.786965</td>\n",
       "      <td>512377600</td>\n",
       "    </tr>\n",
       "    <tr>\n",
       "      <th>3</th>\n",
       "      <td>2000-01-05</td>\n",
       "      <td>0.926339</td>\n",
       "      <td>0.987165</td>\n",
       "      <td>0.919643</td>\n",
       "      <td>0.928571</td>\n",
       "      <td>0.798481</td>\n",
       "      <td>778321600</td>\n",
       "    </tr>\n",
       "    <tr>\n",
       "      <th>4</th>\n",
       "      <td>2000-01-06</td>\n",
       "      <td>0.947545</td>\n",
       "      <td>0.955357</td>\n",
       "      <td>0.848214</td>\n",
       "      <td>0.848214</td>\n",
       "      <td>0.729382</td>\n",
       "      <td>767972800</td>\n",
       "    </tr>\n",
       "    <tr>\n",
       "      <th>...</th>\n",
       "      <td>...</td>\n",
       "      <td>...</td>\n",
       "      <td>...</td>\n",
       "      <td>...</td>\n",
       "      <td>...</td>\n",
       "      <td>...</td>\n",
       "      <td>...</td>\n",
       "    </tr>\n",
       "    <tr>\n",
       "      <th>5404</th>\n",
       "      <td>2021-06-24</td>\n",
       "      <td>134.449997</td>\n",
       "      <td>134.639999</td>\n",
       "      <td>132.929993</td>\n",
       "      <td>133.410004</td>\n",
       "      <td>133.410004</td>\n",
       "      <td>68711000</td>\n",
       "    </tr>\n",
       "    <tr>\n",
       "      <th>5405</th>\n",
       "      <td>2021-06-25</td>\n",
       "      <td>133.460007</td>\n",
       "      <td>133.889999</td>\n",
       "      <td>132.809998</td>\n",
       "      <td>133.110001</td>\n",
       "      <td>133.110001</td>\n",
       "      <td>70783700</td>\n",
       "    </tr>\n",
       "    <tr>\n",
       "      <th>5406</th>\n",
       "      <td>2021-06-28</td>\n",
       "      <td>133.410004</td>\n",
       "      <td>135.250000</td>\n",
       "      <td>133.350006</td>\n",
       "      <td>134.779999</td>\n",
       "      <td>134.779999</td>\n",
       "      <td>62111300</td>\n",
       "    </tr>\n",
       "    <tr>\n",
       "      <th>5407</th>\n",
       "      <td>2021-06-29</td>\n",
       "      <td>134.800003</td>\n",
       "      <td>136.490005</td>\n",
       "      <td>134.350006</td>\n",
       "      <td>136.330002</td>\n",
       "      <td>136.330002</td>\n",
       "      <td>64556100</td>\n",
       "    </tr>\n",
       "    <tr>\n",
       "      <th>5408</th>\n",
       "      <td>2021-06-30</td>\n",
       "      <td>136.169998</td>\n",
       "      <td>137.410004</td>\n",
       "      <td>135.869995</td>\n",
       "      <td>136.960007</td>\n",
       "      <td>136.960007</td>\n",
       "      <td>63261400</td>\n",
       "    </tr>\n",
       "  </tbody>\n",
       "</table>\n",
       "<p>5409 rows × 7 columns</p>\n",
       "</div>"
      ],
      "text/plain": [
       "           date        open        high         low       close   adj_close  \\\n",
       "0    1999-12-31    0.901228    0.918527    0.888393    0.917969    0.789364   \n",
       "1    2000-01-03    0.936384    1.004464    0.907924    0.999442    0.859423   \n",
       "2    2000-01-04    0.966518    0.987723    0.903460    0.915179    0.786965   \n",
       "3    2000-01-05    0.926339    0.987165    0.919643    0.928571    0.798481   \n",
       "4    2000-01-06    0.947545    0.955357    0.848214    0.848214    0.729382   \n",
       "...         ...         ...         ...         ...         ...         ...   \n",
       "5404 2021-06-24  134.449997  134.639999  132.929993  133.410004  133.410004   \n",
       "5405 2021-06-25  133.460007  133.889999  132.809998  133.110001  133.110001   \n",
       "5406 2021-06-28  133.410004  135.250000  133.350006  134.779999  134.779999   \n",
       "5407 2021-06-29  134.800003  136.490005  134.350006  136.330002  136.330002   \n",
       "5408 2021-06-30  136.169998  137.410004  135.869995  136.960007  136.960007   \n",
       "\n",
       "         volume  \n",
       "0     163811200  \n",
       "1     535796800  \n",
       "2     512377600  \n",
       "3     778321600  \n",
       "4     767972800  \n",
       "...         ...  \n",
       "5404   68711000  \n",
       "5405   70783700  \n",
       "5406   62111300  \n",
       "5407   64556100  \n",
       "5408   63261400  \n",
       "\n",
       "[5409 rows x 7 columns]"
      ]
     },
     "execution_count": 13,
     "metadata": {},
     "output_type": "execute_result"
    }
   ],
   "source": [
    "dataframe.reset_index(inplace=True)\n",
    "dataframe.rename(lambda x: x.strip('*').replace(' ', '_').lower(), axis='columns', inplace=True)\n",
    "dataframe"
   ]
  },
  {
   "cell_type": "markdown",
   "id": "5e266f5e-6284-4d00-866c-f64b139cde95",
   "metadata": {},
   "source": [
    "# Preprocessing and feature extraction"
   ]
  },
  {
   "cell_type": "code",
   "execution_count": 14,
   "id": "d0a2594e-59f5-4363-b171-c33d30cb19ac",
   "metadata": {},
   "outputs": [
    {
     "data": {
      "text/plain": [
       "array([  0.90122801,   0.93638402,   0.96651798, ..., 133.41000366,\n",
       "       134.80000305, 136.16999817])"
      ]
     },
     "execution_count": 14,
     "metadata": {},
     "output_type": "execute_result"
    }
   ],
   "source": [
    "dataframe = dataframe['open'].values\n",
    "dataframe "
   ]
  },
  {
   "cell_type": "code",
   "execution_count": 16,
   "id": "4ce4f4cb-047e-436a-aea1-29f2d103e393",
   "metadata": {},
   "outputs": [
    {
     "data": {
      "text/plain": [
       "array([[0.90122801],\n",
       "       [0.93638402],\n",
       "       [0.96651798],\n",
       "       [0.92633897],\n",
       "       [0.94754499]])"
      ]
     },
     "execution_count": 16,
     "metadata": {},
     "output_type": "execute_result"
    }
   ],
   "source": [
    "dataframe = dataframe.reshape(-1,1)\n",
    "dataframe.shape\n",
    "dataframe[:5]"
   ]
  },
  {
   "cell_type": "code",
   "execution_count": 18,
   "id": "68dc25b8-4828-4102-b32c-10da3b8c12a6",
   "metadata": {},
   "outputs": [
    {
     "name": "stdout",
     "output_type": "stream",
     "text": [
      "(4327, 1)\n",
      "(1132, 1)\n"
     ]
    }
   ],
   "source": [
    "dataset_train = np.array(dataframe[:int(dataframe.shape[0]*0.8)])\n",
    "dataset_test = np.array(dataframe[int(dataframe.shape[0]*0.8)-50:])\n",
    "print(dataset_train.shape)\n",
    "print(dataset_test.shape)"
   ]
  },
  {
   "cell_type": "code",
   "execution_count": 21,
   "id": "35507b3e-c419-4de6-ad90-7008cf72dd45",
   "metadata": {},
   "outputs": [
    {
     "data": {
      "text/plain": [
       "array([[0.0192494 ],\n",
       "       [0.02026056],\n",
       "       [0.02112728]])"
      ]
     },
     "execution_count": 21,
     "metadata": {},
     "output_type": "execute_result"
    }
   ],
   "source": [
    "scaler = MinMaxScaler(feature_range=(0,1))\n",
    "dataset_train = scaler.fit_transform(dataset_train)\n",
    "dataset_train[:3]"
   ]
  },
  {
   "cell_type": "code",
   "execution_count": 22,
   "id": "eb947fd5-493c-4edb-a622-c20ccad643a0",
   "metadata": {},
   "outputs": [
    {
     "data": {
      "text/plain": [
       "array([[0.00185346],\n",
       "       [0.        ],\n",
       "       [0.00010902],\n",
       "       [0.00026166],\n",
       "       [0.00213693]])"
      ]
     },
     "execution_count": 22,
     "metadata": {},
     "output_type": "execute_result"
    }
   ],
   "source": [
    "dataset_test = scaler.fit_transform(dataset_test)\n",
    "dataset_test[:5]"
   ]
  },
  {
   "cell_type": "code",
   "execution_count": 23,
   "id": "337ce8f4-ac3d-400c-8b21-0d488a1c70d8",
   "metadata": {},
   "outputs": [],
   "source": [
    "def create_dataset(df):\n",
    "    x = []\n",
    "    y = []\n",
    "    for i in range(50, df.shape[0]):\n",
    "        x.append(df[i-50:i, 0])\n",
    "        y.append(df[i, 0])\n",
    "    x = np.array(x)\n",
    "    y = np.array(y)\n",
    "    return x,y"
   ]
  },
  {
   "cell_type": "code",
   "execution_count": 24,
   "id": "0828b413-87c7-4499-9ef5-ea6c91a98ea6",
   "metadata": {},
   "outputs": [
    {
     "name": "stdout",
     "output_type": "stream",
     "text": [
      "[[0.0192494  0.02026056 0.02112728 0.01997165 0.02058158 0.01810982\n",
      "  0.01952224 0.01796538 0.01772461 0.01759219 0.01900864 0.01926545\n",
      "  0.02045315 0.0229891  0.02266809 0.02117543 0.02029266 0.02157669\n",
      "  0.02127172 0.02111123 0.01926545 0.02003584 0.01920126 0.01908888\n",
      "  0.0200198  0.02106308 0.02260389 0.02263599 0.02231501 0.0225076\n",
      "  0.02140012 0.02292491 0.02356691 0.02290886 0.02276441 0.02160879\n",
      "  0.02240728 0.02345456 0.02281256 0.02160879 0.02249155 0.02377557\n",
      "  0.02594236 0.02539663 0.02568555 0.02579789 0.02488303 0.02436942\n",
      "  0.02457809 0.02469044]]\n",
      "[0.02445769]\n"
     ]
    }
   ],
   "source": [
    "x_train, y_train = create_dataset(dataset_train)\n",
    "print(x_train[:1])\n",
    "print(y_train[:1])"
   ]
  },
  {
   "cell_type": "code",
   "execution_count": 25,
   "id": "cc8eed7d-3d8f-4cae-be2a-2fc8e9015aae",
   "metadata": {},
   "outputs": [
    {
     "name": "stdout",
     "output_type": "stream",
     "text": [
      "[[0.00185346 0.         0.00010902 0.00026166 0.00213693 0.00468817\n",
      "  0.00647622 0.0064108  0.0067597  0.00721761 0.00553858 0.0091583\n",
      "  0.00784997 0.01013954 0.0091583  0.00817706 0.01007413 0.01279981\n",
      "  0.01382468 0.01118621 0.01166594 0.02448756 0.02655909 0.02727866\n",
      "  0.02906673 0.03214128 0.03390755 0.03456169 0.03632796 0.03767989\n",
      "  0.0385303  0.04300044 0.04332751 0.04208461 0.04454861 0.04498471\n",
      "  0.04705626 0.04385085 0.04653292 0.04640209 0.04816833 0.05276929\n",
      "  0.05010902 0.05139553 0.05071957 0.05047971 0.05002181 0.05113388\n",
      "  0.05026167 0.05124291]]\n"
     ]
    }
   ],
   "source": [
    "x_test, y_test = create_dataset(dataset_test)\n",
    "print(x_test[:1])"
   ]
  },
  {
   "cell_type": "code",
   "execution_count": 43,
   "id": "5de74051-7101-4bfc-8fef-7e578c33ea13",
   "metadata": {},
   "outputs": [],
   "source": [
    "# Reshape features for LSTM Layer\n",
    "x_train = np.reshape(x_train, (x_train.shape[0], x_train.shape[1], 1))\n",
    "x_test = np.reshape(x_test, (x_test.shape[0], x_test.shape[1], 1))"
   ]
  },
  {
   "cell_type": "markdown",
   "id": "83ae6f63-eee2-4b9e-9225-af8c86a8679f",
   "metadata": {},
   "source": [
    "# Build model"
   ]
  },
  {
   "cell_type": "code",
   "execution_count": 44,
   "id": "037f94d9-764d-4deb-81b5-35fa4759f96e",
   "metadata": {},
   "outputs": [],
   "source": [
    "model = Sequential()\n",
    "model.add(LSTM(units=96, return_sequences=True, input_shape=(x_train.shape[1], 1)))\n",
    "model.add(Dropout(0.2))\n",
    "model.add(LSTM(units=96, return_sequences=True))\n",
    "model.add(Dropout(0.2))\n",
    "model.add(LSTM(units=96, return_sequences=True))\n",
    "model.add(Dropout(0.2))\n",
    "model.add(LSTM(units=96))\n",
    "model.add(Dropout(0.2))\n",
    "model.add(Dense(units=1))"
   ]
  },
  {
   "cell_type": "code",
   "execution_count": 45,
   "id": "13d862ed-04b3-4ac2-b873-c85da408d27d",
   "metadata": {},
   "outputs": [],
   "source": [
    "model.compile(loss='mean_squared_error', optimizer='adam')"
   ]
  },
  {
   "cell_type": "code",
   "execution_count": 48,
   "id": "019fca40-260c-4271-b61f-7cdde6b02384",
   "metadata": {
    "tags": []
   },
   "outputs": [
    {
     "name": "stdout",
     "output_type": "stream",
     "text": [
      "Epoch 1/50\n",
      "134/134 - 28s - loss: 4.6856e-04\n",
      "Epoch 2/50\n",
      "134/134 - 22s - loss: 5.4589e-04\n",
      "Epoch 3/50\n",
      "134/134 - 24s - loss: 4.6618e-04\n",
      "Epoch 4/50\n",
      "134/134 - 27s - loss: 5.2847e-04\n",
      "Epoch 5/50\n",
      "134/134 - 30s - loss: 5.5519e-04\n",
      "Epoch 6/50\n",
      "134/134 - 25s - loss: 4.7509e-04\n",
      "Epoch 7/50\n",
      "134/134 - 21s - loss: 4.8793e-04\n",
      "Epoch 8/50\n",
      "134/134 - 24s - loss: 4.6309e-04\n",
      "Epoch 9/50\n",
      "134/134 - 21s - loss: 4.8337e-04\n",
      "Epoch 10/50\n",
      "134/134 - 18s - loss: 5.5354e-04\n",
      "Epoch 11/50\n",
      "134/134 - 18s - loss: 4.6662e-04\n",
      "Epoch 12/50\n",
      "134/134 - 20s - loss: 5.0558e-04\n",
      "Epoch 13/50\n",
      "134/134 - 20s - loss: 4.6190e-04\n",
      "Epoch 14/50\n",
      "134/134 - 17s - loss: 4.9202e-04\n",
      "Epoch 15/50\n",
      "134/134 - 22s - loss: 4.5771e-04\n",
      "Epoch 16/50\n",
      "134/134 - 20s - loss: 4.6329e-04\n",
      "Epoch 17/50\n",
      "134/134 - 19s - loss: 4.6376e-04\n",
      "Epoch 18/50\n",
      "134/134 - 28s - loss: 4.7333e-04\n",
      "Epoch 19/50\n",
      "134/134 - 23s - loss: 4.7370e-04\n",
      "Epoch 20/50\n",
      "134/134 - 21s - loss: 4.5906e-04\n",
      "Epoch 21/50\n",
      "134/134 - 21s - loss: 4.8570e-04\n",
      "Epoch 22/50\n",
      "134/134 - 24s - loss: 4.6070e-04\n",
      "Epoch 23/50\n",
      "134/134 - 21s - loss: 5.0234e-04\n",
      "Epoch 24/50\n",
      "134/134 - 19s - loss: 4.8777e-04\n",
      "Epoch 25/50\n",
      "134/134 - 17s - loss: 5.1654e-04\n",
      "Epoch 26/50\n",
      "134/134 - 17s - loss: 4.4741e-04\n",
      "Epoch 27/50\n",
      "134/134 - 18s - loss: 5.0777e-04\n",
      "Epoch 28/50\n",
      "134/134 - 16s - loss: 4.8378e-04\n",
      "Epoch 29/50\n",
      "134/134 - 18s - loss: 4.4293e-04\n",
      "Epoch 30/50\n",
      "134/134 - 19s - loss: 5.0102e-04\n",
      "Epoch 31/50\n",
      "134/134 - 28s - loss: 4.6539e-04\n",
      "Epoch 32/50\n",
      "134/134 - 18s - loss: 4.8202e-04\n",
      "Epoch 33/50\n",
      "134/134 - 19s - loss: 4.5099e-04\n",
      "Epoch 34/50\n",
      "134/134 - 22s - loss: 4.3215e-04\n",
      "Epoch 35/50\n",
      "134/134 - 20s - loss: 4.4094e-04\n",
      "Epoch 36/50\n",
      "134/134 - 22s - loss: 4.8950e-04\n",
      "Epoch 37/50\n",
      "134/134 - 20s - loss: 4.4149e-04\n",
      "Epoch 38/50\n",
      "134/134 - 17s - loss: 4.8248e-04\n",
      "Epoch 39/50\n",
      "134/134 - 17s - loss: 5.1096e-04\n",
      "Epoch 40/50\n",
      "134/134 - 16s - loss: 4.2262e-04\n",
      "Epoch 41/50\n",
      "134/134 - 17s - loss: 4.5087e-04\n",
      "Epoch 42/50\n",
      "134/134 - 17s - loss: 4.7555e-04\n",
      "Epoch 43/50\n",
      "134/134 - 16s - loss: 4.7005e-04\n",
      "Epoch 44/50\n",
      "134/134 - 17s - loss: 4.3103e-04\n",
      "Epoch 45/50\n",
      "134/134 - 18s - loss: 4.0690e-04\n",
      "Epoch 46/50\n",
      "134/134 - 21s - loss: 4.5012e-04\n",
      "Epoch 47/50\n",
      "134/134 - 21s - loss: 5.1223e-04\n",
      "Epoch 48/50\n",
      "134/134 - 20s - loss: 3.9415e-04\n",
      "Epoch 49/50\n",
      "134/134 - 19s - loss: 4.7717e-04\n",
      "Epoch 50/50\n",
      "134/134 - 17s - loss: 4.1460e-04\n"
     ]
    }
   ],
   "source": [
    "model.fit(x=x_train, y=y_train, epochs=50, batch_size=32, verbose=2)\n",
    "model.save('rnn_stock_prediction.h5')"
   ]
  },
  {
   "cell_type": "code",
   "execution_count": 49,
   "id": "ee3dda74-5dd8-4961-ab9b-fce51097de40",
   "metadata": {},
   "outputs": [
    {
     "data": {
      "text/plain": [
       "<keras.engine.sequential.Sequential at 0x15df72130>"
      ]
     },
     "execution_count": 49,
     "metadata": {},
     "output_type": "execute_result"
    }
   ],
   "source": [
    "model = load_model('rnn_stock_prediction.h5')\n",
    "model"
   ]
  },
  {
   "cell_type": "markdown",
   "id": "b26d34af-bbc4-4abd-832e-33cbdc3f6f6f",
   "metadata": {},
   "source": [
    "# Visualizing results"
   ]
  },
  {
   "cell_type": "code",
   "execution_count": 50,
   "id": "78029a62-fd70-40c5-b1ad-9aea0ff162f6",
   "metadata": {},
   "outputs": [
    {
     "data": {
      "text/plain": [
       "<matplotlib.legend.Legend at 0x15e99d880>"
      ]
     },
     "execution_count": 50,
     "metadata": {},
     "output_type": "execute_result"
    },
    {
     "data": {
      "image/png": "[encoded data removed]",
      "text/plain": [
       "<Figure size 576x288 with 1 Axes>"
      ]
     },
     "metadata": {
      "needs_background": "light"
     },
     "output_type": "display_data"
    }
   ],
   "source": [
    "predictions = model.predict(x_test)\n",
    "predictions = scaler.inverse_transform(predictions)\n",
    "\n",
    "fig, ax = plt.subplots(figsize=(8,4))\n",
    "plt.plot(dataframe, color='red',  label=\"True Price\")\n",
    "ax.plot(range(len(y_train)+50,len(y_train)+50+len(predictions)),predictions, color='blue', label='Predicted Testing Price')\n",
    "plt.legend()"
   ]
  },
  {
   "cell_type": "code",
   "execution_count": 51,
   "id": "0627270f-55c9-446a-88d4-4c2f5684addb",
   "metadata": {},
   "outputs": [
    {
     "data": {
      "text/plain": [
       "<matplotlib.legend.Legend at 0x15eaa46a0>"
      ]
     },
     "execution_count": 51,
     "metadata": {},
     "output_type": "execute_result"
    },
    {
     "data": {
      "image/png": "[encoded data removed]",
      "text/plain": [
       "<Figure size 576x288 with 1 Axes>"
      ]
     },
     "metadata": {
      "needs_background": "light"
     },
     "output_type": "display_data"
    }
   ],
   "source": [
    "y_test_scaled = scaler.inverse_transform(y_test.reshape(-1, 1))\n",
    "\n",
    "fig, ax = plt.subplots(figsize=(8,4))\n",
    "ax.plot(y_test_scaled, color='red', label='True Testing Price')\n",
    "plt.plot(predictions, color='blue', label='Predicted Testing Price')\n",
    "plt.legend()"
   ]
  },
  {
   "cell_type": "code",
   "execution_count": null,
   "id": "fd2e11d1-1ef4-42a4-be6f-de1027ae3673",
   "metadata": {},
   "outputs": [],
   "source": []
  }
 ],
 "metadata": {
  "kernelspec": {
   "display_name": "Python 3 (ipykernel)",
   "language": "python",
   "name": "python3"
  },
  "language_info": {
   "codemirror_mode": {
    "name": "ipython",
    "version": 3
   },
   "file_extension": ".py",
   "mimetype": "text/x-python",
   "name": "python",
   "nbconvert_exporter": "python",
   "pygments_lexer": "ipython3",
   "version": "3.8.2"
  }
 },
 "nbformat": 4,
 "nbformat_minor": 5
}
