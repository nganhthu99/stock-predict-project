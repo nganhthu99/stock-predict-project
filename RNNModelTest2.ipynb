{
 "cells": [
  {
   "cell_type": "code",
   "execution_count": 2,
   "id": "7af8c412-36ba-43a3-a90d-e46842d57fb1",
   "metadata": {},
   "outputs": [],
   "source": [
    "import numpy as np\n",
    "import pandas as pd\n",
    "import matplotlib.pyplot as plt\n",
    "from sklearn.preprocessing import MinMaxScaler\n",
    "#for deep learning model\n",
    "from keras import Sequential\n",
    "from keras.layers import Dense\n",
    "from keras.layers import LSTM\n",
    "from keras.layers import Dropout\n",
    "import yfinance as yf"
   ]
  },
  {
   "cell_type": "code",
   "execution_count": 15,
   "id": "8ff18479-ff3a-4b20-accd-bd9b4f1341df",
   "metadata": {},
   "outputs": [
    {
     "data": {
      "text/html": [
       "<div>\n",
       "<style scoped>\n",
       "    .dataframe tbody tr th:only-of-type {\n",
       "        vertical-align: middle;\n",
       "    }\n",
       "\n",
       "    .dataframe tbody tr th {\n",
       "        vertical-align: top;\n",
       "    }\n",
       "\n",
       "    .dataframe thead th {\n",
       "        text-align: right;\n",
       "    }\n",
       "</style>\n",
       "<table border=\"1\" class=\"dataframe\">\n",
       "  <thead>\n",
       "    <tr style=\"text-align: right;\">\n",
       "      <th></th>\n",
       "      <th>date</th>\n",
       "      <th>open</th>\n",
       "      <th>high</th>\n",
       "      <th>low</th>\n",
       "      <th>close</th>\n",
       "      <th>adj_close</th>\n",
       "      <th>volume</th>\n",
       "    </tr>\n",
       "  </thead>\n",
       "  <tbody>\n",
       "    <tr>\n",
       "      <th>0</th>\n",
       "      <td>1999-12-31</td>\n",
       "      <td>58.750000</td>\n",
       "      <td>58.875000</td>\n",
       "      <td>58.125000</td>\n",
       "      <td>58.375000</td>\n",
       "      <td>36.991508</td>\n",
       "      <td>12517600</td>\n",
       "    </tr>\n",
       "    <tr>\n",
       "      <th>1</th>\n",
       "      <td>2000-01-03</td>\n",
       "      <td>58.687500</td>\n",
       "      <td>59.312500</td>\n",
       "      <td>56.000000</td>\n",
       "      <td>58.281250</td>\n",
       "      <td>36.932102</td>\n",
       "      <td>53228400</td>\n",
       "    </tr>\n",
       "    <tr>\n",
       "      <th>2</th>\n",
       "      <td>2000-01-04</td>\n",
       "      <td>56.781250</td>\n",
       "      <td>58.562500</td>\n",
       "      <td>56.125000</td>\n",
       "      <td>56.312500</td>\n",
       "      <td>35.684532</td>\n",
       "      <td>54119000</td>\n",
       "    </tr>\n",
       "    <tr>\n",
       "      <th>3</th>\n",
       "      <td>2000-01-05</td>\n",
       "      <td>55.562500</td>\n",
       "      <td>58.187500</td>\n",
       "      <td>54.687500</td>\n",
       "      <td>56.906250</td>\n",
       "      <td>36.060772</td>\n",
       "      <td>64059600</td>\n",
       "    </tr>\n",
       "    <tr>\n",
       "      <th>4</th>\n",
       "      <td>2000-01-06</td>\n",
       "      <td>56.093750</td>\n",
       "      <td>56.937500</td>\n",
       "      <td>54.187500</td>\n",
       "      <td>55.000000</td>\n",
       "      <td>34.852810</td>\n",
       "      <td>54976600</td>\n",
       "    </tr>\n",
       "    <tr>\n",
       "      <th>...</th>\n",
       "      <td>...</td>\n",
       "      <td>...</td>\n",
       "      <td>...</td>\n",
       "      <td>...</td>\n",
       "      <td>...</td>\n",
       "      <td>...</td>\n",
       "      <td>...</td>\n",
       "    </tr>\n",
       "    <tr>\n",
       "      <th>5404</th>\n",
       "      <td>2021-06-24</td>\n",
       "      <td>266.160004</td>\n",
       "      <td>267.850006</td>\n",
       "      <td>265.470001</td>\n",
       "      <td>266.690002</td>\n",
       "      <td>266.690002</td>\n",
       "      <td>21446900</td>\n",
       "    </tr>\n",
       "    <tr>\n",
       "      <th>5405</th>\n",
       "      <td>2021-06-25</td>\n",
       "      <td>266.230011</td>\n",
       "      <td>267.250000</td>\n",
       "      <td>264.760010</td>\n",
       "      <td>265.019989</td>\n",
       "      <td>265.019989</td>\n",
       "      <td>25611100</td>\n",
       "    </tr>\n",
       "    <tr>\n",
       "      <th>5406</th>\n",
       "      <td>2021-06-28</td>\n",
       "      <td>266.190002</td>\n",
       "      <td>268.899994</td>\n",
       "      <td>265.910004</td>\n",
       "      <td>268.720001</td>\n",
       "      <td>268.720001</td>\n",
       "      <td>19590000</td>\n",
       "    </tr>\n",
       "    <tr>\n",
       "      <th>5407</th>\n",
       "      <td>2021-06-29</td>\n",
       "      <td>268.869995</td>\n",
       "      <td>271.649994</td>\n",
       "      <td>267.980011</td>\n",
       "      <td>271.399994</td>\n",
       "      <td>271.399994</td>\n",
       "      <td>19937800</td>\n",
       "    </tr>\n",
       "    <tr>\n",
       "      <th>5408</th>\n",
       "      <td>2021-06-30</td>\n",
       "      <td>270.690002</td>\n",
       "      <td>271.359985</td>\n",
       "      <td>269.600006</td>\n",
       "      <td>270.899994</td>\n",
       "      <td>270.899994</td>\n",
       "      <td>21656500</td>\n",
       "    </tr>\n",
       "  </tbody>\n",
       "</table>\n",
       "<p>5409 rows × 7 columns</p>\n",
       "</div>"
      ],
      "text/plain": [
       "            date        open        high         low       close   adj_close  \\\n",
       "0     1999-12-31   58.750000   58.875000   58.125000   58.375000   36.991508   \n",
       "1     2000-01-03   58.687500   59.312500   56.000000   58.281250   36.932102   \n",
       "2     2000-01-04   56.781250   58.562500   56.125000   56.312500   35.684532   \n",
       "3     2000-01-05   55.562500   58.187500   54.687500   56.906250   36.060772   \n",
       "4     2000-01-06   56.093750   56.937500   54.187500   55.000000   34.852810   \n",
       "...          ...         ...         ...         ...         ...         ...   \n",
       "5404  2021-06-24  266.160004  267.850006  265.470001  266.690002  266.690002   \n",
       "5405  2021-06-25  266.230011  267.250000  264.760010  265.019989  265.019989   \n",
       "5406  2021-06-28  266.190002  268.899994  265.910004  268.720001  268.720001   \n",
       "5407  2021-06-29  268.869995  271.649994  267.980011  271.399994  271.399994   \n",
       "5408  2021-06-30  270.690002  271.359985  269.600006  270.899994  270.899994   \n",
       "\n",
       "        volume  \n",
       "0     12517600  \n",
       "1     53228400  \n",
       "2     54119000  \n",
       "3     64059600  \n",
       "4     54976600  \n",
       "...        ...  \n",
       "5404  21446900  \n",
       "5405  25611100  \n",
       "5406  19590000  \n",
       "5407  19937800  \n",
       "5408  21656500  \n",
       "\n",
       "[5409 rows x 7 columns]"
      ]
     },
     "execution_count": 15,
     "metadata": {},
     "output_type": "execute_result"
    }
   ],
   "source": [
    "# loading dataframe\n",
    "df = pd.read_csv(\"DATA_MSFT.csv\")\n",
    "#df.reset_index(inplace=True)\n",
    "df.rename(lambda x: x.strip('*').replace(' ', '_').lower(), axis='columns', inplace=True)\n",
    "df"
   ]
  },
  {
   "cell_type": "code",
   "execution_count": 16,
   "id": "dcc60949-9e81-47c9-b423-2b5cf1f87034",
   "metadata": {},
   "outputs": [
    {
     "name": "stdout",
     "output_type": "stream",
     "text": [
      "Train size:  (2000, 1)\n",
      "Test size:  (3409, 1)\n"
     ]
    }
   ],
   "source": [
    "open_price = df.iloc[:,1:2]\n",
    "train_set = open_price[:2000].values\n",
    "test_set = open_price[2000:].values\n",
    "print(\"Train size: \", train_set.shape)\n",
    "print(\"Test size: \", test_set.shape)"
   ]
  },
  {
   "cell_type": "code",
   "execution_count": 17,
   "id": "68ed4577-895c-4b21-8d83-c726292797cf",
   "metadata": {},
   "outputs": [
    {
     "data": {
      "image/png": "[encoded data removed]",
      "text/plain": [
       "<Figure size 432x288 with 1 Axes>"
      ]
     },
     "metadata": {
      "needs_background": "light"
     },
     "output_type": "display_data"
    }
   ],
   "source": [
    "dates = pd.to_datetime(df['date'])\n",
    "plt.plot_date(dates, open_price, fmt='-')\n",
    "plt.savefig(\"Test_Open_Price.png\")"
   ]
  },
  {
   "cell_type": "code",
   "execution_count": 19,
   "id": "8cf81e30-f799-4e3a-bf63-ff98dea2eec8",
   "metadata": {},
   "outputs": [
    {
     "data": {
      "text/plain": [
       "(2000, 1)"
      ]
     },
     "execution_count": 19,
     "metadata": {},
     "output_type": "execute_result"
    }
   ],
   "source": [
    "scaler = MinMaxScaler()\n",
    "train_set_scaled = scaler.fit_transform(train_set)\n",
    "train_set_scaled.shape"
   ]
  },
  {
   "cell_type": "code",
   "execution_count": 23,
   "id": "31799580-ef08-44ff-acb6-f95819ee47f7",
   "metadata": {},
   "outputs": [
    {
     "data": {
      "text/plain": [
       "(1940, 60, 1)"
      ]
     },
     "execution_count": 23,
     "metadata": {},
     "output_type": "execute_result"
    }
   ],
   "source": [
    "x_train = []\n",
    "y_train = []\n",
    "for i in range(60,2000):\n",
    "    x_train.append(train_set_scaled[i-60:i,0])\n",
    "    y_train.append(train_set_scaled[i,0])\n",
    "x_train = np.array(x_train)\n",
    "y_train = np.array(y_train)\n",
    "x_train = np.reshape(x_train, (x_train.shape[0], x_train.shape[1],1))\n",
    "x_train.shape"
   ]
  },
  {
   "cell_type": "code",
   "execution_count": 24,
   "id": "aed76f6f-20ad-413a-8d72-6f998dc89e8b",
   "metadata": {},
   "outputs": [
    {
     "name": "stderr",
     "output_type": "stream",
     "text": [
      "2021-07-05 21:30:43.022971: I tensorflow/core/platform/cpu_feature_guard.cc:142] This TensorFlow binary is optimized with oneAPI Deep Neural Network Library (oneDNN) to use the following CPU instructions in performance-critical operations:  AVX2 FMA\n",
      "To enable them in other operations, rebuild TensorFlow with the appropriate compiler flags.\n",
      "2021-07-05 21:30:44.933389: I tensorflow/compiler/mlir/mlir_graph_optimization_pass.cc:176] None of the MLIR Optimization Passes are enabled (registered 2)\n"
     ]
    },
    {
     "name": "stdout",
     "output_type": "stream",
     "text": [
      "Epoch 1/20\n",
      "1940/1940 - 176s - loss: 0.0037\n",
      "Epoch 2/20\n",
      "1940/1940 - 149s - loss: 0.0017\n",
      "Epoch 3/20\n",
      "1940/1940 - 160s - loss: 0.0017\n",
      "Epoch 4/20\n",
      "1940/1940 - 138s - loss: 0.0012\n",
      "Epoch 5/20\n",
      "1940/1940 - 140s - loss: 0.0010\n",
      "Epoch 6/20\n",
      "1940/1940 - 142s - loss: 0.0011\n",
      "Epoch 7/20\n",
      "1940/1940 - 131s - loss: 0.0010\n",
      "Epoch 8/20\n",
      "1940/1940 - 137s - loss: 8.4211e-04\n",
      "Epoch 9/20\n",
      "1940/1940 - 120s - loss: 9.3147e-04\n",
      "Epoch 10/20\n",
      "1940/1940 - 111s - loss: 8.7162e-04\n",
      "Epoch 11/20\n",
      "1940/1940 - 406s - loss: 7.0028e-04\n",
      "Epoch 12/20\n",
      "1940/1940 - 130s - loss: 7.1782e-04\n",
      "Epoch 13/20\n",
      "1940/1940 - 743s - loss: 7.3740e-04\n",
      "Epoch 14/20\n",
      "1940/1940 - 121s - loss: 6.8411e-04\n",
      "Epoch 15/20\n",
      "1940/1940 - 107s - loss: 8.1000e-04\n",
      "Epoch 16/20\n",
      "1940/1940 - 107s - loss: 5.8871e-04\n",
      "Epoch 17/20\n",
      "1940/1940 - 109s - loss: 6.3161e-04\n",
      "Epoch 18/20\n",
      "1940/1940 - 108s - loss: 6.2885e-04\n",
      "Epoch 19/20\n",
      "1940/1940 - 107s - loss: 6.3372e-04\n",
      "Epoch 20/20\n",
      "1940/1940 - 108s - loss: 6.6785e-04\n"
     ]
    },
    {
     "data": {
      "text/plain": [
       "<keras.callbacks.History at 0x14e09ce80>"
      ]
     },
     "execution_count": 24,
     "metadata": {},
     "output_type": "execute_result"
    }
   ],
   "source": [
    "reg = Sequential()\n",
    "reg.add(LSTM(units=50, return_sequences=True, input_shape=(x_train.shape[1],1)))\n",
    "reg.add(Dropout(0.2))\n",
    "reg.add(LSTM(units=50, return_sequences=True))\n",
    "reg.add(Dropout(0.2))\n",
    "reg.add(LSTM(units=50, return_sequences=True))\n",
    "reg.add(Dropout(0.2))\n",
    "reg.add(LSTM(units=50))\n",
    "reg.add(Dropout(0.2))\n",
    "reg.add(Dense(units=1))\n",
    "reg.compile(optimizer='adam', loss='mean_squared_error')\n",
    "reg.fit(x_train, y_train, epochs=20, batch_size=1, verbose=2)"
   ]
  },
  {
   "cell_type": "code",
   "execution_count": 28,
   "id": "dc2dd4cd-b14c-4068-b42d-51af78ab44fa",
   "metadata": {},
   "outputs": [],
   "source": [
    "input = open_price[len(open_price) - len(test_set) - 60:].values\n",
    "input.shape\n",
    "input = scaler.transform(input)"
   ]
  },
  {
   "cell_type": "code",
   "execution_count": 29,
   "id": "8393ccb3-1e28-471a-a0af-c58b317e9fd5",
   "metadata": {},
   "outputs": [
    {
     "data": {
      "text/plain": [
       "(35, 60, 1)"
      ]
     },
     "execution_count": 29,
     "metadata": {},
     "output_type": "execute_result"
    }
   ],
   "source": [
    "x_test = []\n",
    "for i in range(60,95):\n",
    "    x_test.append(input[i-60:i,0])\n",
    "x_test = np.array(x_test)\n",
    "x_test = np.reshape(x_test, (x_test.shape[0], x_test.shape[1],1))\n",
    "x_test.shape"
   ]
  },
  {
   "cell_type": "code",
   "execution_count": 33,
   "id": "f971326e-7229-4ec7-bf67-350159a67fc2",
   "metadata": {},
   "outputs": [
    {
     "data": {
      "image/png": "[encoded data removed]",
      "text/plain": [
       "<Figure size 432x288 with 1 Axes>"
      ]
     },
     "metadata": {
      "needs_background": "light"
     },
     "output_type": "display_data"
    }
   ],
   "source": [
    "pred = reg.predict(x_test)\n",
    "pred = scaler.inverse_transform(pred)\n",
    "plt.plot(pred, color='red')\n",
    "plt.plot(test_set, color='green')\n",
    "plt.title('Stock prediction')\n",
    "plt.show()"
   ]
  },
  {
   "cell_type": "code",
   "execution_count": null,
   "id": "0f155261-1ac6-436a-b29a-a6fbe37dbc30",
   "metadata": {},
   "outputs": [],
   "source": []
  }
 ],
 "metadata": {
  "kernelspec": {
   "display_name": "Python 3 (ipykernel)",
   "language": "python",
   "name": "python3"
  },
  "language_info": {
   "codemirror_mode": {
    "name": "ipython",
    "version": 3
   },
   "file_extension": ".py",
   "mimetype": "text/x-python",
   "name": "python",
   "nbconvert_exporter": "python",
   "pygments_lexer": "ipython3",
   "version": "3.8.2"
  }
 },
 "nbformat": 4,
 "nbformat_minor": 5
}
